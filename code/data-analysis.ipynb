{
 "cells": [
  {
   "cell_type": "code",
   "execution_count": 1,
   "id": "98f7cf35-9f6a-4c9c-957f-5b05694a2a76",
   "metadata": {},
   "outputs": [],
   "source": [
    "#i don't need these but i'll include them as a comment for the coding challenge\n",
    "#CODING CHALLENGE\n",
    "#import numpy as np\n",
    "#import seaborn as sns\n",
    "\n",
    "#importing the libraries i need\n",
    "import matplotlib.pyplot as plt\n",
    "import pandas as pd"
   ]
  },
  {
   "cell_type": "code",
   "execution_count": 2,
   "id": "9bc36679-fbd4-4dc4-a0c9-3558d1e47a31",
   "metadata": {},
   "outputs": [],
   "source": [
    "#CODING CHALLENGE\n",
    "#loading in all my data\n",
    "sat_2017 = pd.read_csv('../data/sat_2017.csv')\n",
    "sat_2018 = pd.read_csv('../data/sat_2018.csv')\n",
    "sat_2019 = pd.read_csv('../data/sat_2019.csv')\n",
    "\n",
    "#tuples for states so i don't have to keep retyping all this\n",
    "east_states = ('New York', 'Massachusetts', 'Maryland')\n",
    "west_states = ('California', 'Oregon', 'Washington')"
   ]
  },
  {
   "cell_type": "code",
   "execution_count": 3,
   "id": "c3b24d63-7b51-4562-ae82-d0719a179ab0",
   "metadata": {},
   "outputs": [],
   "source": [
    "#CODING CHALLENGE\n",
    "#gets me the mean of a list of values\n",
    "def find_mean(values):\n",
    "    return sum(values) / len(values)"
   ]
  },
  {
   "cell_type": "code",
   "execution_count": 4,
   "id": "cf392278-3e9e-4077-b244-787b3f00ea22",
   "metadata": {},
   "outputs": [],
   "source": [
    "#CODING CHALLENGE\n",
    "#gets me std of a data set\n",
    "def find_std(data):\n",
    "    var = sum((x - find_mean(data)) ** 2 for x in data) / len(data)\n",
    "    return var ** .5"
   ]
  },
  {
   "cell_type": "code",
   "execution_count": 5,
   "id": "cd590c7c-0669-40ac-a0aa-233381fc8e35",
   "metadata": {},
   "outputs": [],
   "source": [
    "#CODING CHALLENGE\n",
    "#gets me the integers in a string and returns as an int \n",
    "def clean_data(perc):\n",
    "    return int(''.join(x for x in perc if x.isdigit()))"
   ]
  },
  {
   "cell_type": "code",
   "execution_count": 6,
   "id": "04b1f395-ed1c-4800-9d49-b56dbc1b4e84",
   "metadata": {},
   "outputs": [],
   "source": [
    "#cleaning 2017 sat data to get only what i want to see\n",
    "sat_2017.drop('Participation', inplace = True, axis = 1)\n",
    "sat_2017.drop('Total', inplace = True, axis = 1)\n",
    "sat_2017.rename(columns = ({'Evidence-Based Reading and Writing' : 'EBRW'}), inplace = True)\n",
    "sat_2017.at[20, 'Math'] = 524\n",
    "\n",
    "#cleaning 2018 sat data to get only what i want to see\n",
    "sat_2018.drop('Participation', inplace = True, axis = 1)\n",
    "sat_2018.drop('Total', inplace = True, axis = 1)\n",
    "sat_2018.rename(columns = ({'Evidence-Based Reading and Writing' : 'EBRW'}), inplace = True)\n",
    "\n",
    "#cleaning 2019 sat data to get only what i want to see\n",
    "sat_2019.drop('Participation Rate', inplace = True, axis = 1)\n",
    "sat_2019.drop('Total', inplace = True, axis = 1)"
   ]
  },
  {
   "cell_type": "code",
   "execution_count": 7,
   "id": "36eaa857-9897-489d-970f-bb8161f45019",
   "metadata": {},
   "outputs": [
    {
     "data": {
      "text/plain": [
       "[       State  EBRW  Math\n",
       " 32  New York   528   523,\n",
       "             State  EBRW  Math\n",
       " 21  Massachusetts   555   551,\n",
       "        State  EBRW  Math\n",
       " 20  Maryland   536   524]"
      ]
     },
     "metadata": {},
     "output_type": "display_data"
    },
    {
     "data": {
      "text/plain": [
       "[        State  EBRW  Math\n",
       " 4  California   531   524,\n",
       "      State  EBRW  Math\n",
       " 37  Oregon   560   548,\n",
       "          State  EBRW  Math\n",
       " 47  Washington   541   534]"
      ]
     },
     "metadata": {},
     "output_type": "display_data"
    }
   ],
   "source": [
    "#getting 2017's east and west coast scores\n",
    "sat_2017.at[20, 'Math'] = 524\n",
    "east_2017 = [sat_2017[sat_2017['State'] == x] for x in east_states]\n",
    "west_2017 = [sat_2017[sat_2017['State'] == x] for x in west_states]\n",
    "\n",
    "display(east_2017)\n",
    "display(west_2017)"
   ]
  },
  {
   "cell_type": "code",
   "execution_count": 8,
   "id": "33987eb3-96cc-46bc-b7f6-22d6e0972fb0",
   "metadata": {},
   "outputs": [
    {
     "name": "stdout",
     "output_type": "stream",
     "text": [
      "East Math 2017: 533\n",
      "West Math 2017: 535\n",
      "\n",
      "East Math 2017: 540\n",
      "West Math 2017: 544\n"
     ]
    }
   ],
   "source": [
    "#printing and averaging out the scores\n",
    "east_2017_math = round((int(east_2017[0].Math) + int(east_2017[1].Math) + int(east_2017[2].Math)) / 3)\n",
    "west_2017_math = round((int(west_2017[0].Math) + int(west_2017[1].Math) + int(west_2017[2].Math)) / 3)\n",
    "\n",
    "east_2017_ebrw = round((int(east_2017[0].EBRW) + int(east_2017[1].EBRW) + int(east_2017[2].EBRW)) / 3)\n",
    "west_2017_ebrw = round((int(west_2017[0].EBRW) + int(west_2017[1].EBRW) + int(west_2017[2].EBRW)) / 3)\n",
    "\n",
    "print(f'East Math 2017: {east_2017_math}')\n",
    "print(f'West Math 2017: {west_2017_math}\\n')\n",
    "\n",
    "print(f'East Math 2017: {east_2017_ebrw}')\n",
    "print(f'West Math 2017: {west_2017_ebrw}')"
   ]
  },
  {
   "cell_type": "code",
   "execution_count": 9,
   "id": "bb6f11fe-3714-4f00-9463-8fad80574d25",
   "metadata": {},
   "outputs": [
    {
     "data": {
      "text/plain": [
       "[       State  EBRW  Math\n",
       " 32  New York   534   534,\n",
       "             State  EBRW  Math\n",
       " 21  Massachusetts   562   563,\n",
       "        State  EBRW  Math\n",
       " 20  Maryland   545   535]"
      ]
     },
     "metadata": {},
     "output_type": "display_data"
    },
    {
     "data": {
      "text/plain": [
       "[        State  EBRW  Math\n",
       " 4  California   540   536,\n",
       "      State  EBRW  Math\n",
       " 37  Oregon   564   553,\n",
       "          State  EBRW  Math\n",
       " 47  Washington   543   538]"
      ]
     },
     "metadata": {},
     "output_type": "display_data"
    }
   ],
   "source": [
    "#getting 2018's east and west coast scores\n",
    "east_2018 = [sat_2018[sat_2018['State'] == x] for x in east_states]\n",
    "west_2018 = [sat_2018[sat_2018['State'] == x] for x in west_states]\n",
    "\n",
    "display(east_2018)\n",
    "display(west_2018)"
   ]
  },
  {
   "cell_type": "code",
   "execution_count": 10,
   "id": "26f21ff5-ad76-4ead-9961-bf68ee4a5b60",
   "metadata": {},
   "outputs": [
    {
     "name": "stdout",
     "output_type": "stream",
     "text": [
      "East Math 2018: 544\n",
      "West Math 2018: 542\n",
      "\n",
      "East Math 2018: 547\n",
      "West Math 2018: 549\n"
     ]
    }
   ],
   "source": [
    "#printing and averaging out the scores\n",
    "east_2018_math = round((int(east_2018[0].Math) + int(east_2018[1].Math) + int(east_2018[2].Math)) / 3)\n",
    "west_2018_math = round((int(west_2018[0].Math) + int(west_2018[1].Math) + int(west_2018[2].Math)) / 3)\n",
    "\n",
    "east_2018_ebrw = round((int(east_2018[0].EBRW) + int(east_2018[1].EBRW) + int(east_2018[2].EBRW)) / 3)\n",
    "west_2018_ebrw = round((int(west_2018[0].EBRW) + int(west_2018[1].EBRW) + int(west_2018[2].EBRW)) / 3)\n",
    "\n",
    "print(f'East Math 2018: {east_2018_math}')\n",
    "print(f'West Math 2018: {west_2018_math}\\n')\n",
    "\n",
    "print(f'East Math 2018: {east_2018_ebrw}')\n",
    "print(f'West Math 2018: {west_2018_ebrw}')"
   ]
  },
  {
   "cell_type": "code",
   "execution_count": 11,
   "id": "c653099f-0436-4853-bd09-729b258fa15b",
   "metadata": {},
   "outputs": [
    {
     "data": {
      "text/plain": [
       "[       State  EBRW  Math\n",
       " 32  New York   531   533,\n",
       "             State  EBRW  Math\n",
       " 21  Massachusetts   559   561,\n",
       "        State  EBRW  Math\n",
       " 20  Maryland   535   523]"
      ]
     },
     "metadata": {},
     "output_type": "display_data"
    },
    {
     "data": {
      "text/plain": [
       "[        State  EBRW  Math\n",
       " 4  California   534   531,\n",
       "      State  EBRW  Math\n",
       " 37  Oregon   562   550,\n",
       "          State  EBRW  Math\n",
       " 49  Washington   539   535]"
      ]
     },
     "metadata": {},
     "output_type": "display_data"
    }
   ],
   "source": [
    "#getting 2019's east and west coast scores\n",
    "east_2019 = [sat_2019[sat_2019['State'] == x] for x in east_states]\n",
    "west_2019 = [sat_2019[sat_2019['State'] == x] for x in west_states]\n",
    "\n",
    "display(east_2019)\n",
    "display(west_2019)"
   ]
  },
  {
   "cell_type": "code",
   "execution_count": 12,
   "id": "36280fc2-c178-4c89-bfe0-bb7a7653bd6d",
   "metadata": {},
   "outputs": [
    {
     "name": "stdout",
     "output_type": "stream",
     "text": [
      "East Math 2018: 539\n",
      "West Math 2018: 539\n",
      "\n",
      "East EBRW 2018: 542\n",
      "West EBRW 2018: 545\n"
     ]
    }
   ],
   "source": [
    "#printing and averaging out the scores\n",
    "east_2019_math = round((int(east_2019[0].Math) + int(east_2019[1].Math) + int(east_2019[2].Math)) / 3)\n",
    "west_2019_math = round((int(west_2019[0].Math) + int(west_2019[1].Math) + int(west_2019[2].Math)) / 3)\n",
    "\n",
    "east_2019_ebrw = round((int(east_2019[0].EBRW) + int(east_2019[1].EBRW) + int(east_2019[2].EBRW)) / 3)\n",
    "west_2019_ebrw = round((int(west_2019[0].EBRW) + int(west_2019[1].EBRW) + int(west_2019[2].EBRW)) / 3)\n",
    "\n",
    "print(f'East Math 2018: {east_2019_math}')\n",
    "print(f'West Math 2018: {west_2019_math}\\n')\n",
    "\n",
    "print(f'East EBRW 2018: {east_2019_ebrw}')\n",
    "print(f'West EBRW 2018: {west_2019_ebrw}')"
   ]
  },
  {
   "cell_type": "code",
   "execution_count": 13,
   "id": "087d15c5-4998-42a8-a126-058730aee491",
   "metadata": {},
   "outputs": [
    {
     "data": {
      "image/png": "[encoded data removed]",
      "text/plain": [
       "<Figure size 720x432 with 1 Axes>"
      ]
     },
     "metadata": {
      "needs_background": "light"
     },
     "output_type": "display_data"
    }
   ],
   "source": [
    "#making a boxplot for 2017\n",
    "sat_2017.boxplot(grid = False, figsize = (10, 6), patch_artist = True, notch = True, zorder = 0, vert = 0)\n",
    "plt.title('US SAT 2017 Scores')\n",
    "plt.xlabel('Scores')\n",
    "\n",
    "#points for the average east and west coast\n",
    "first = plt.scatter(east_2017_math , 2, c = \"red\", zorder = 1)\n",
    "second = plt.scatter(west_2017_math, 2, c = \"yellow\", zorder = 1)\n",
    "\n",
    "\n",
    "plt.scatter(east_2017_ebrw, 1, c = \"red\", zorder = 1)\n",
    "plt.scatter(west_2017_ebrw, 1, c = \"yellow\", zorder = 1)\n",
    "\n",
    "#a legend so it's easier to read\n",
    "plt.legend([first, second], ['East Coast', 'West Coast'], loc='upper right', title = 'Averages', title_fontsize = 'large')\n",
    "\n",
    "#saving my plot for my slide show\n",
    "plt.savefig('../images/US SAT 2017 Scores.jpg');"
   ]
  },
  {
   "cell_type": "code",
   "execution_count": 14,
   "id": "16dca22d-c6ba-4ee0-a398-b6df9c81d33f",
   "metadata": {},
   "outputs": [
    {
     "data": {
      "image/png": "[encoded data removed]",
      "text/plain": [
       "<Figure size 720x432 with 1 Axes>"
      ]
     },
     "metadata": {
      "needs_background": "light"
     },
     "output_type": "display_data"
    }
   ],
   "source": [
    "#making a boxplot for 2018\n",
    "sat_2018.boxplot(grid = False, figsize = (10, 6), patch_artist = True, notch = True, zorder = 0, vert = 0)\n",
    "plt.title('US SAT 2018 Scores')\n",
    "plt.xlabel('Scores')\n",
    "\n",
    "#points for the average east and west coast\n",
    "first = plt.scatter(east_2018_math, 2, c = \"red\", zorder = 1)\n",
    "second = plt.scatter(west_2018_math, 2, c = \"yellow\", zorder = 1)\n",
    "\n",
    "plt.scatter(east_2018_ebrw, 1, c = \"red\", zorder = 1)\n",
    "plt.scatter(west_2018_ebrw, 1, c = \"yellow\", zorder = 1)\n",
    "\n",
    "#a legend so it's easier to read\n",
    "plt.legend([first, second], ['East Coast', 'West Coast'], loc='upper right', title = 'Averages', title_fontsize = 'large')\n",
    "\n",
    "#saving my plot for my slide show\n",
    "plt.savefig('../images/US SAT 2018 Scores.jpg');"
   ]
  },
  {
   "cell_type": "code",
   "execution_count": 15,
   "id": "691c0b1e-b265-465b-9903-863f51942e31",
   "metadata": {},
   "outputs": [
    {
     "data": {
      "image/png": "[encoded data removed]",
      "text/plain": [
       "<Figure size 720x432 with 1 Axes>"
      ]
     },
     "metadata": {
      "needs_background": "light"
     },
     "output_type": "display_data"
    }
   ],
   "source": [
    "#making a boxplot for 2018\n",
    "sat_2019.boxplot(grid = False, figsize = (10, 6), patch_artist = True, notch = True, zorder = 0, vert = 0)\n",
    "plt.title('US SAT 2019 Scores')\n",
    "plt.xlabel('Scores')\n",
    "\n",
    "#points for the average east and west coast\n",
    "plt.scatter(east_2019_math, 2, c = \"red\", zorder = 1, alpha = 0.3)\n",
    "plt.scatter(west_2019_math, 2, c = \"yellow\", zorder = 1, alpha = 0.3)\n",
    "\n",
    "plt.scatter(east_2019_ebrw, 1, c = \"red\", zorder = 3)\n",
    "plt.scatter(west_2019_ebrw, 1, c = \"yellow\", zorder = 1)\n",
    "\n",
    "#a legend so it's easier to read\n",
    "plt.legend([first, second], ['East Coast', 'West Coast'], loc='upper right', title = 'Averages', title_fontsize = 'large')\n",
    "\n",
    "#saving my plot for my slide show\n",
    "plt.savefig('../images/US SAT 2019 Scores.jpg')"
   ]
  }
 ],
 "metadata": {
  "kernelspec": {
   "display_name": "Python 3 (ipykernel)",
   "language": "python",
   "name": "python3"
  },
  "language_info": {
   "codemirror_mode": {
    "name": "ipython",
    "version": 3
   },
   "file_extension": ".py",
   "mimetype": "text/x-python",
   "name": "python",
   "nbconvert_exporter": "python",
   "pygments_lexer": "ipython3",
   "version": "3.9.7"
  }
 },
 "nbformat": 4,
 "nbformat_minor": 5
}
